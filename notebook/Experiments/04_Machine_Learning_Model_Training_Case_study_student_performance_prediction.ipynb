{
 "cells": [
  {
   "cell_type": "markdown",
   "metadata": {},
   "source": [
    "\n",
    "\n",
    "# **Data Science Foundations**\n",
    "\n",
    "**Author** : **Muhammad Adil Naeem**\n",
    "\n",
    "**Date** : **21/08/2024**\n",
    "\n",
    "----\n",
    "\n",
    "### **ML Model Training Case Study using `Student Performance Prediction`**\n",
    "\n",
    "\n",
    "----"
   ]
  },
  {
   "cell_type": "markdown",
   "metadata": {},
   "source": [
    "#### **Importing Libraries**"
   ]
  },
  {
   "cell_type": "code",
   "execution_count": 1,
   "metadata": {},
   "outputs": [],
   "source": [
    "# Basic Import\n",
    "import numpy as np\n",
    "import pandas as pd\n",
    "import matplotlib.pyplot as plt \n",
    "import seaborn as sns\n",
    "# Modelling\n",
    "from sklearn.model_selection import train_test_split\n",
    "from sklearn.metrics import mean_squared_error, r2_score\n",
    "\n",
    "from sklearn.compose import ColumnTransformer\n",
    "from sklearn.pipeline import Pipeline, make_pipeline\n",
    "from sklearn.neighbors import KNeighborsRegressor\n",
    "from sklearn.preprocessing import OneHotEncoder,PowerTransformer, StandardScaler, MinMaxScaler\n",
    "from sklearn.tree import DecisionTreeRegressor\n",
    "from sklearn.ensemble import RandomForestRegressor,AdaBoostRegressor\n",
    "from sklearn.svm import SVR\n",
    "from sklearn.model_selection import train_test_split\n",
    "from sklearn.linear_model import LinearRegression, Ridge,Lasso\n",
    "from sklearn.metrics import r2_score, mean_absolute_error\n",
    "from sklearn.model_selection import train_test_split,RandomizedSearchCV, GridSearchCV\n",
    "import pickle\n",
    "\n",
    "import warnings"
   ]
  },
  {
   "cell_type": "markdown",
   "metadata": {},
   "source": [
    "#### **Load Cleaned Data**"
   ]
  },
  {
   "cell_type": "code",
   "execution_count": 2,
   "metadata": {},
   "outputs": [],
   "source": [
    "df = pd.read_csv(r'C:\\Users\\user\\Desktop\\Python With Krish Naik\\New\\Data Science Foundations\\cleaned_student_performane_prediction_data.csv')"
   ]
  },
  {
   "cell_type": "markdown",
   "metadata": {},
   "source": [
    "#### **First 5 Rows of the Dataset**"
   ]
  },
  {
   "cell_type": "code",
   "execution_count": 3,
   "metadata": {},
   "outputs": [
    {
     "data": {
      "text/html": [
       "<div>\n",
       "<style scoped>\n",
       "    .dataframe tbody tr th:only-of-type {\n",
       "        vertical-align: middle;\n",
       "    }\n",
       "\n",
       "    .dataframe tbody tr th {\n",
       "        vertical-align: top;\n",
       "    }\n",
       "\n",
       "    .dataframe thead th {\n",
       "        text-align: right;\n",
       "    }\n",
       "</style>\n",
       "<table border=\"1\" class=\"dataframe\">\n",
       "  <thead>\n",
       "    <tr style=\"text-align: right;\">\n",
       "      <th></th>\n",
       "      <th>gender</th>\n",
       "      <th>race/ethnicity</th>\n",
       "      <th>parental level of education</th>\n",
       "      <th>lunch</th>\n",
       "      <th>test preparation course</th>\n",
       "      <th>math score</th>\n",
       "      <th>reading score</th>\n",
       "      <th>writing score</th>\n",
       "      <th>total score</th>\n",
       "      <th>average</th>\n",
       "    </tr>\n",
       "  </thead>\n",
       "  <tbody>\n",
       "    <tr>\n",
       "      <th>0</th>\n",
       "      <td>female</td>\n",
       "      <td>group B</td>\n",
       "      <td>bachelor's degree</td>\n",
       "      <td>standard</td>\n",
       "      <td>none</td>\n",
       "      <td>72</td>\n",
       "      <td>72</td>\n",
       "      <td>74</td>\n",
       "      <td>218</td>\n",
       "      <td>72.666667</td>\n",
       "    </tr>\n",
       "    <tr>\n",
       "      <th>1</th>\n",
       "      <td>female</td>\n",
       "      <td>group C</td>\n",
       "      <td>some college</td>\n",
       "      <td>standard</td>\n",
       "      <td>completed</td>\n",
       "      <td>69</td>\n",
       "      <td>90</td>\n",
       "      <td>88</td>\n",
       "      <td>247</td>\n",
       "      <td>82.333333</td>\n",
       "    </tr>\n",
       "    <tr>\n",
       "      <th>2</th>\n",
       "      <td>female</td>\n",
       "      <td>group B</td>\n",
       "      <td>master's degree</td>\n",
       "      <td>standard</td>\n",
       "      <td>none</td>\n",
       "      <td>90</td>\n",
       "      <td>95</td>\n",
       "      <td>93</td>\n",
       "      <td>278</td>\n",
       "      <td>92.666667</td>\n",
       "    </tr>\n",
       "    <tr>\n",
       "      <th>3</th>\n",
       "      <td>male</td>\n",
       "      <td>group A</td>\n",
       "      <td>associate's degree</td>\n",
       "      <td>free/reduced</td>\n",
       "      <td>none</td>\n",
       "      <td>47</td>\n",
       "      <td>57</td>\n",
       "      <td>44</td>\n",
       "      <td>148</td>\n",
       "      <td>49.333333</td>\n",
       "    </tr>\n",
       "    <tr>\n",
       "      <th>4</th>\n",
       "      <td>male</td>\n",
       "      <td>group C</td>\n",
       "      <td>some college</td>\n",
       "      <td>standard</td>\n",
       "      <td>none</td>\n",
       "      <td>76</td>\n",
       "      <td>78</td>\n",
       "      <td>75</td>\n",
       "      <td>229</td>\n",
       "      <td>76.333333</td>\n",
       "    </tr>\n",
       "  </tbody>\n",
       "</table>\n",
       "</div>"
      ],
      "text/plain": [
       "   gender race/ethnicity parental level of education         lunch  \\\n",
       "0  female        group B           bachelor's degree      standard   \n",
       "1  female        group C                some college      standard   \n",
       "2  female        group B             master's degree      standard   \n",
       "3    male        group A          associate's degree  free/reduced   \n",
       "4    male        group C                some college      standard   \n",
       "\n",
       "  test preparation course  math score  reading score  writing score  \\\n",
       "0                    none          72             72             74   \n",
       "1               completed          69             90             88   \n",
       "2                    none          90             95             93   \n",
       "3                    none          47             57             44   \n",
       "4                    none          76             78             75   \n",
       "\n",
       "   total score    average  \n",
       "0          218  72.666667  \n",
       "1          247  82.333333  \n",
       "2          278  92.666667  \n",
       "3          148  49.333333  \n",
       "4          229  76.333333  "
      ]
     },
     "execution_count": 3,
     "metadata": {},
     "output_type": "execute_result"
    }
   ],
   "source": [
    "df.head()"
   ]
  },
  {
   "cell_type": "markdown",
   "metadata": {},
   "source": [
    "#### **Droping total score columns, As It was showing multicollineariy with average**"
   ]
  },
  {
   "cell_type": "code",
   "execution_count": 4,
   "metadata": {},
   "outputs": [],
   "source": [
    "df.drop(columns=['total score'], inplace=True)"
   ]
  },
  {
   "cell_type": "markdown",
   "metadata": {},
   "source": [
    "### **Preparing X and Y variables**"
   ]
  },
  {
   "cell_type": "code",
   "execution_count": 5,
   "metadata": {},
   "outputs": [],
   "source": [
    "X = df.drop(columns=['average'],axis=1)"
   ]
  },
  {
   "cell_type": "code",
   "execution_count": 6,
   "metadata": {},
   "outputs": [],
   "source": [
    "y = df['average']"
   ]
  },
  {
   "cell_type": "code",
   "execution_count": 7,
   "metadata": {},
   "outputs": [
    {
     "data": {
      "text/plain": [
       "['math score', 'reading score', 'writing score']"
      ]
     },
     "execution_count": 7,
     "metadata": {},
     "output_type": "execute_result"
    }
   ],
   "source": [
    "num_features = [feature for feature in X.columns if X[feature].dtype != 'O']\n",
    "num_features"
   ]
  },
  {
   "cell_type": "markdown",
   "metadata": {},
   "source": [
    "#### **Seperating Catagorical Features for One Hot Encoding**"
   ]
  },
  {
   "cell_type": "code",
   "execution_count": 8,
   "metadata": {},
   "outputs": [
    {
     "data": {
      "text/plain": [
       "['gender',\n",
       " 'race/ethnicity',\n",
       " 'parental level of education',\n",
       " 'lunch',\n",
       " 'test preparation course']"
      ]
     },
     "execution_count": 8,
     "metadata": {},
     "output_type": "execute_result"
    }
   ],
   "source": [
    "ohe_columns = ['gender', 'race/ethnicity', 'parental level of education', 'lunch',\n",
    "       'test preparation course']\n",
    "ohe_columns"
   ]
  },
  {
   "cell_type": "markdown",
   "metadata": {},
   "source": [
    "##### **Scaling and Encoding Features**"
   ]
  },
  {
   "cell_type": "code",
   "execution_count": 10,
   "metadata": {},
   "outputs": [],
   "source": [
    "scale = ColumnTransformer(transformers=[\n",
    "    ('scale', StandardScaler(),slice(0,11))\n",
    "],remainder='passthrough')\n",
    "tnf = ColumnTransformer(transformers=[\n",
    "    ('ohe', OneHotEncoder(drop= 'first'),[0,1,2,3,4])\n",
    "],remainder='passthrough')"
   ]
  },
  {
   "cell_type": "markdown",
   "metadata": {},
   "source": [
    "### **Using Linear Regression**"
   ]
  },
  {
   "cell_type": "code",
   "execution_count": 11,
   "metadata": {},
   "outputs": [
    {
     "name": "stdout",
     "output_type": "stream",
     "text": [
      "R2 SCORE 1.0\n",
      "MAE 1.1404210908949608e-14\n"
     ]
    }
   ],
   "source": [
    "X_train, X_test, y_train, y_test = train_test_split(X, y, train_size=0.3, random_state=198)\n",
    "pipe = Pipeline([\n",
    "        ('tnf',tnf),\n",
    "        ('scale',scale),\n",
    "        ('model',LinearRegression(fit_intercept=True))\n",
    "    ])\n",
    "pipe.fit(X_train, y_train)\n",
    "y_pred = pipe.predict(X_test)\n",
    "print('R2 SCORE', r2_score(y_test,y_pred))\n",
    "print('MAE', mean_absolute_error(y_test,y_pred))"
   ]
  },
  {
   "cell_type": "markdown",
   "metadata": {},
   "source": [
    "### **Using Ridge Regression**"
   ]
  },
  {
   "cell_type": "code",
   "execution_count": 12,
   "metadata": {},
   "outputs": [
    {
     "name": "stdout",
     "output_type": "stream",
     "text": [
      "Model performance for Training set\n",
      "R2: 1.0000\n",
      "MAE: 0.0001\n",
      "Model performance for Test set\n",
      "R2: 1.0000\n",
      "MAE : 0.0001\n"
     ]
    }
   ],
   "source": [
    "X_train, X_test, y_train, y_test = train_test_split(X, y, train_size=0.3, random_state=198)\n",
    "pipe = Pipeline([\n",
    "        ('tnf',tnf),\n",
    "        ('scale',scale),\n",
    "        ('model',Ridge(fit_intercept=True))\n",
    "    ])\n",
    "pipe.fit(X_train, y_train)\n",
    "# Make predictions\n",
    "y_train_pred = pipe.predict(X_train)\n",
    "y_test_pred = pipe.predict(X_test)\n",
    "# Training set performance\n",
    "model_train_r2score = r2_score(y_train, y_train_pred) # Calculate r2score\n",
    "model_train_mae = mean_absolute_error(y_train, y_train_pred) # Calculate MAE\n",
    "\n",
    "# Test set performance\n",
    "model_test_r2score = r2_score(y_test, y_test_pred) # Calculate r2score\n",
    "model_test_mae = mean_absolute_error(y_test, y_test_pred) # Calculate MAE\n",
    "\n",
    "  \n",
    "print('Model performance for Training set')\n",
    "print(\"R2: {:.4f}\".format(model_train_r2score))\n",
    "print(\"MAE: {:.4f}\".format(model_train_mae))\n",
    "\n",
    "print('Model performance for Test set')\n",
    "print(\"R2: {:.4f}\".format(model_test_r2score))\n",
    "print(\"MAE : {:.4f}\".format(model_test_mae))"
   ]
  },
  {
   "cell_type": "markdown",
   "metadata": {},
   "source": [
    "### **Using Lasso Regression**"
   ]
  },
  {
   "cell_type": "code",
   "execution_count": 13,
   "metadata": {},
   "outputs": [
    {
     "name": "stdout",
     "output_type": "stream",
     "text": [
      "Model performance for Training set\n",
      "R2: 1.0000\n",
      "MAE: 0.0600\n",
      "Model performance for Test set\n",
      "R2: 1.0000\n",
      "MAE : 0.0601\n"
     ]
    }
   ],
   "source": [
    "X_train, X_test, y_train, y_test = train_test_split(X, y, train_size=0.3, random_state=728)\n",
    "pipe = Pipeline([\n",
    "        ('tnf',tnf),\n",
    "        ('scale',scale),\n",
    "        ('model',Lasso(fit_intercept=True))\n",
    "    ])\n",
    "pipe.fit(X_train, y_train)\n",
    "\n",
    "# Make predictions\n",
    "y_train_pred = pipe.predict(X_train)\n",
    "y_test_pred = pipe.predict(X_test)\n",
    "# Training set performance\n",
    "model_train_r2score = r2_score(y_train, y_train_pred) # Calculate r2score\n",
    "model_train_mae = mean_absolute_error(y_train, y_train_pred) # Calculate MAE\n",
    "\n",
    "# Test set performance\n",
    "model_test_r2score = r2_score(y_test, y_test_pred) # Calculate r2score\n",
    "model_test_mae = mean_absolute_error(y_test, y_test_pred) # Calculate MAE\n",
    "\n",
    "  \n",
    "print('Model performance for Training set')\n",
    "print(\"R2: {:.4f}\".format(model_train_r2score))\n",
    "print(\"MAE: {:.4f}\".format(model_train_mae))\n",
    "\n",
    "print('Model performance for Test set')\n",
    "print(\"R2: {:.4f}\".format(model_test_r2score))\n",
    "print(\"MAE : {:.4f}\".format(model_test_mae))"
   ]
  },
  {
   "cell_type": "markdown",
   "metadata": {},
   "source": [
    "### **Using Support Vecor Regression**"
   ]
  },
  {
   "cell_type": "code",
   "execution_count": 14,
   "metadata": {},
   "outputs": [
    {
     "name": "stdout",
     "output_type": "stream",
     "text": [
      "Model performance for Training set\n",
      "R2: 1.0000\n",
      "MAE: 0.0363\n",
      "Model performance for Test set\n",
      "R2: 1.0000\n",
      "MAE : 0.0345\n"
     ]
    }
   ],
   "source": [
    "X_train, X_test, y_train, y_test = train_test_split(X, y, train_size=0.3, random_state=480)\n",
    "pipe = Pipeline([\n",
    "        ('tnf',tnf),\n",
    "        ('scale',scale),\n",
    "        ('model',SVR(C=1,kernel='linear',gamma='auto',max_iter=5000))\n",
    "    ])\n",
    "pipe.fit(X_train, y_train)\n",
    "# Make predictions\n",
    "y_train_pred = pipe.predict(X_train)\n",
    "y_test_pred = pipe.predict(X_test)\n",
    "# Training set performance\n",
    "model_train_r2score = r2_score(y_train, y_train_pred) # Calculate r2score\n",
    "model_train_mae = mean_absolute_error(y_train, y_train_pred) # Calculate MAE\n",
    "\n",
    "# Test set performance\n",
    "model_test_r2score = r2_score(y_test, y_test_pred) # Calculate r2score\n",
    "model_test_mae = mean_absolute_error(y_test, y_test_pred) # Calculate MAE\n",
    "\n",
    "  \n",
    "print('Model performance for Training set')\n",
    "print(\"R2: {:.4f}\".format(model_train_r2score))\n",
    "print(\"MAE: {:.4f}\".format(model_train_mae))\n",
    "\n",
    "print('Model performance for Test set')\n",
    "print(\"R2: {:.4f}\".format(model_test_r2score))\n",
    "print(\"MAE : {:.4f}\".format(model_test_mae))"
   ]
  },
  {
   "cell_type": "markdown",
   "metadata": {},
   "source": [
    "### **Using KNeighborsRegressor**"
   ]
  },
  {
   "cell_type": "code",
   "execution_count": 15,
   "metadata": {},
   "outputs": [
    {
     "name": "stdout",
     "output_type": "stream",
     "text": [
      "Model performance for Training set\n",
      "R2: 0.9972\n",
      "MAE: 0.5027\n",
      "Model performance for Test set\n",
      "R2: 0.9861\n",
      "MAE : 0.7432\n"
     ]
    }
   ],
   "source": [
    "X_train, X_test, y_train, y_test = train_test_split(X, y, train_size=0.3, random_state=458)\n",
    "pipe = Pipeline([\n",
    "        ('tnf',tnf),\n",
    "        ('scale',scale),\n",
    "        ('model',KNeighborsRegressor())\n",
    "    ])\n",
    "pipe.fit(X_train, y_train)\n",
    "# Make predictions\n",
    "y_train_pred = pipe.predict(X_train)\n",
    "y_test_pred = pipe.predict(X_test)\n",
    "# Training set performance\n",
    "model_train_r2score = r2_score(y_train, y_train_pred) # Calculate r2score\n",
    "model_train_mae = mean_absolute_error(y_train, y_train_pred) # Calculate MAE\n",
    "\n",
    "# Test set performance\n",
    "model_test_r2score = r2_score(y_test, y_test_pred) # Calculate r2score\n",
    "model_test_mae = mean_absolute_error(y_test, y_test_pred) # Calculate MAE\n",
    "\n",
    "  \n",
    "print('Model performance for Training set')\n",
    "print(\"R2: {:.4f}\".format(model_train_r2score))\n",
    "print(\"MAE: {:.4f}\".format(model_train_mae))\n",
    "\n",
    "print('Model performance for Test set')\n",
    "print(\"R2: {:.4f}\".format(model_test_r2score))\n",
    "print(\"MAE : {:.4f}\".format(model_test_mae))"
   ]
  },
  {
   "cell_type": "markdown",
   "metadata": {},
   "source": [
    "### **Using DecisionTreeRegressor**"
   ]
  },
  {
   "cell_type": "code",
   "execution_count": 16,
   "metadata": {},
   "outputs": [
    {
     "name": "stdout",
     "output_type": "stream",
     "text": [
      "Model performance for Training set\n",
      "R2: 1.0000\n",
      "MAE: 0.0000\n",
      "Model performance for Test set\n",
      "R2: 0.9750\n",
      "MAE : 1.6581\n"
     ]
    }
   ],
   "source": [
    "X_train, X_test, y_train, y_test = train_test_split(X, y, train_size=0.3, random_state=657)\n",
    "pipe = Pipeline([\n",
    "        ('tnf',tnf),\n",
    "        ('scale',scale),\n",
    "        ('model',DecisionTreeRegressor())\n",
    "    ])\n",
    "pipe.fit(X_train, y_train)\n",
    "# Make predictions\n",
    "y_train_pred = pipe.predict(X_train)\n",
    "y_test_pred = pipe.predict(X_test)\n",
    "# Training set performance\n",
    "model_train_r2score = r2_score(y_train, y_train_pred) # Calculate r2score\n",
    "model_train_mae = mean_absolute_error(y_train, y_train_pred) # Calculate MAE\n",
    "\n",
    "# Test set performance\n",
    "model_test_r2score = r2_score(y_test, y_test_pred) # Calculate r2score\n",
    "model_test_mae = mean_absolute_error(y_test, y_test_pred) # Calculate MAE\n",
    "\n",
    "  \n",
    "print('Model performance for Training set')\n",
    "print(\"R2: {:.4f}\".format(model_train_r2score))\n",
    "print(\"MAE: {:.4f}\".format(model_train_mae))\n",
    "\n",
    "print('Model performance for Test set')\n",
    "print(\"R2: {:.4f}\".format(model_test_r2score))\n",
    "print(\"MAE : {:.4f}\".format(model_test_mae))"
   ]
  },
  {
   "cell_type": "markdown",
   "metadata": {},
   "source": [
    "### **Using RandomForestRegressor**"
   ]
  },
  {
   "cell_type": "code",
   "execution_count": 17,
   "metadata": {},
   "outputs": [
    {
     "name": "stdout",
     "output_type": "stream",
     "text": [
      "Model performance for Training set\n",
      "R2: 0.9983\n",
      "MAE: 0.3224\n",
      "Model performance for Test set\n",
      "R2: 0.9935\n",
      "MAE : 0.7745\n"
     ]
    }
   ],
   "source": [
    "X_train, X_test, y_train, y_test = train_test_split(X, y, train_size=0.3, random_state=256)\n",
    "pipe = Pipeline([\n",
    "        ('tnf',tnf),\n",
    "        ('scale',scale),\n",
    "        ('model',RandomForestRegressor())\n",
    "    ])\n",
    "pipe.fit(X_train, y_train)\n",
    "# Make predictions\n",
    "y_train_pred = pipe.predict(X_train)\n",
    "y_test_pred = pipe.predict(X_test)\n",
    "# Training set performance\n",
    "model_train_r2score = r2_score(y_train, y_train_pred) # Calculate r2score\n",
    "model_train_mae = mean_absolute_error(y_train, y_train_pred) # Calculate MAE\n",
    "\n",
    "# Test set performance\n",
    "model_test_r2score = r2_score(y_test, y_test_pred) # Calculate r2score\n",
    "model_test_mae = mean_absolute_error(y_test, y_test_pred) # Calculate MAE\n",
    "\n",
    "  \n",
    "print('Model performance for Training set')\n",
    "print(\"R2: {:.4f}\".format(model_train_r2score))\n",
    "print(\"MAE: {:.4f}\".format(model_train_mae))\n",
    "\n",
    "print('Model performance for Test set')\n",
    "print(\"R2: {:.4f}\".format(model_test_r2score))\n",
    "print(\"MAE : {:.4f}\".format(model_test_mae))"
   ]
  },
  {
   "cell_type": "markdown",
   "metadata": {},
   "source": [
    "###  **Save the trained model as a pickle file.**"
   ]
  },
  {
   "cell_type": "code",
   "execution_count": 19,
   "metadata": {},
   "outputs": [],
   "source": [
    "import pickle\n",
    "pickle.dump(pipe, open('models/best_model.pkl', 'wb'))"
   ]
  }
 ],
 "metadata": {
  "kernelspec": {
   "display_name": "eda_env",
   "language": "python",
   "name": "python3"
  },
  "language_info": {
   "codemirror_mode": {
    "name": "ipython",
    "version": 3
   },
   "file_extension": ".py",
   "mimetype": "text/x-python",
   "name": "python",
   "nbconvert_exporter": "python",
   "pygments_lexer": "ipython3",
   "version": "3.12.2"
  }
 },
 "nbformat": 4,
 "nbformat_minor": 2
}
